{
  "cells": [
    {
      "cell_type": "code",
      "execution_count": 1,
      "id": "936f0615",
      "metadata": {
        "id": "936f0615",
        "outputId": "f9f582e1-4bb3-48ae-d809-72443384dfaf",
        "colab": {
          "base_uri": "https://localhost:8080/"
        }
      },
      "outputs": [
        {
          "output_type": "stream",
          "name": "stdout",
          "text": [
            "The sorted list is:  [19, 19, 20, 22, 24, 24, 24, 25, 25, 26]\n",
            "The min and max ages of the given list are:  19 26\n",
            "The updated list  [19, 19, 20, 22, 24, 24, 24, 25, 25, 26, 19, 26]\n",
            "The median of ages:  24.0\n",
            "The average age of the given list:  22.75\n",
            "The range of given ages 7\n"
          ]
        }
      ],
      "source": [
        "ages = [19, 22, 19, 24, 20, 25, 26, 24, 25, 24]\n",
        "ages.sort()\n",
        "print(\"The sorted list is: \",ages)\n",
        "min_age=min(ages)\n",
        "max_age=max(ages)\n",
        "print(\"The min and max ages of the given list are: \",min_age,max_age)\n",
        "\n",
        "#again adding the min and max age to the list\n",
        "ages.extend((min_age,max_age))\n",
        "print(\"The updated list \",ages)\n",
        "\n",
        "#median of ages\n",
        "if len(ages) % 2 == 0:\n",
        "    median = (ages[len(ages)//2] + ages[len(ages)//2-1])/2\n",
        "else:\n",
        "    median = ages[len(ages)//2]\n",
        "print(\"The median of ages: \",median)\n",
        "\n",
        "#average age\n",
        "average = sum(ages)/len(ages)\n",
        "print(\"The average age of the given list: \",average)\n",
        "\n",
        "#range of ages\n",
        "range = max_age - min_age\n",
        "print(\"The range of given ages\",range)\n",
        "\n"
      ]
    },
    {
      "cell_type": "code",
      "execution_count": null,
      "id": "51fe71f2",
      "metadata": {
        "id": "51fe71f2",
        "outputId": "627e187d-10a6-4735-a8b0-c20b4809e24a"
      },
      "outputs": [
        {
          "name": "stdout",
          "output_type": "stream",
          "text": [
            "{'name': 'Bruno', 'color': 'Brown', 'breed': 'Labrador', 'legs': 4, 'age': 6}\n",
            "9\n",
            "<class 'list'>\n",
            "The student details are:  {'first_name': 'John', 'last_name': 'Miller', 'gender': 'Male', 'age': 28, 'marital status': 'Single', 'skills': ['Java', 'Angular', 'Salesforce', 'Machine Learning'], 'country': 'United States', 'city': 'Overland Park', 'address': '8720 W'}\n",
            "['first_name', 'last_name', 'gender', 'age', 'marital status', 'skills', 'country', 'city', 'address']\n",
            "['John', 'Miller', 'Male', 28, 'Single', ['Java', 'Angular', 'Salesforce', 'Machine Learning'], 'United States', 'Overland Park', '8720 W']\n"
          ]
        }
      ],
      "source": [
        "#creating empty dictionary\n",
        "dog={}\n",
        "\n",
        "#adding key and values to the dictionary\n",
        "dog={'name':'Bruno','color':'Brown','breed':'Labrador','legs':4,'age':6}\n",
        "print(dog)\n",
        "\n",
        "#creating student dictionary and assigning keys & values\n",
        "student={'first_name':\"John\",'last_name':\"Miller\",'gender':\"Male\",'age':28,'marital status':'Single',\n",
        "         'skills':[\"Java\", \"Angular\"],'country':\"United States\",'city':\"Overland Park\",'address':\"8720 W\"}\n",
        "\n",
        "#length of student dictionary\n",
        "length=len(student)\n",
        "print(length)\n",
        "\n",
        "#value of skills key\n",
        "student['skills']\n",
        "\n",
        "#datatype of skills key\n",
        "print(type(student['skills']))\n",
        "\n",
        "#adding two skills\n",
        "student['skills'].extend((('Salesforce'),('Machine Learning')))\n",
        "print(\"The student details are: \",student)\n",
        "\n",
        "#dictionary keys as a list\n",
        "keys=list(student.keys())\n",
        "print(keys)\n",
        "\n",
        "#dictionary values as a list\n",
        "values=list(student.values())\n",
        "print(values)\n"
      ]
    },
    {
      "cell_type": "code",
      "execution_count": null,
      "id": "12165dbc",
      "metadata": {
        "id": "12165dbc",
        "outputId": "b9378782-3480-4b56-d3cf-d04689bae65a"
      },
      "outputs": [
        {
          "name": "stdout",
          "output_type": "stream",
          "text": [
            "('John', 'Drake', 'Simon', 'Christine', 'Dalia')\n",
            "5\n",
            "('John', 'Drake', 'Simon', 'Christine', 'Dalia', 'Swamy', 'Sangeetha')\n"
          ]
        }
      ],
      "source": [
        "#creating tuples conatining sister and brother names\n",
        "brothers=(\"John\",\"Drake\",\"Simon\")\n",
        "sisters=(\"Christine\",\"Dalia\")\n",
        "\n",
        "#joining brothers and sisters tuples and assigning it to siblings\n",
        "siblings=brothers+sisters\n",
        "print(siblings)\n",
        "\n",
        "#count of siblings\n",
        "num_of_siblings=len(siblings)\n",
        "print(num_of_siblings)\n",
        "\n",
        "#as the tuples are immutable converting to list and then back to tuple\n",
        "family_members = list(siblings)\n",
        "family_members.extend([\"Swamy\", \"Sangeetha\"])\n",
        "family_members = tuple(family_members)\n",
        "print(family_members)"
      ]
    },
    {
      "cell_type": "code",
      "execution_count": null,
      "id": "772bc01c",
      "metadata": {
        "id": "772bc01c",
        "outputId": "93206669-1f79-446c-ce6f-03a5652d7589"
      },
      "outputs": [
        {
          "name": "stdout",
          "output_type": "stream",
          "text": [
            "7\n",
            "{'Apple', 'IBM', 'Microsoft', 'Google', 'Twitter', 'Amazon', 'Facebook', 'Oracle'}\n",
            "{'TCS', 'IBM', 'Microsoft', 'Twitter', 'Amazon', 'Cognizant', 'Capgemini', 'Apple', 'Facebook', 'Google', 'Oracle'}\n",
            "{'TCS', 'IBM', 'Microsoft', 'Twitter', 'Cognizant', 'Capgemini', 'Apple', 'Facebook', 'Google', 'Oracle'}\n",
            "{19, 20, 22, 24, 25, 26, 27, 28}\n",
            "{19, 20, 22, 24, 25, 26}\n",
            "True\n",
            "False\n",
            "{27, 28}\n",
            "{27, 28}\n",
            "8\n",
            "5\n"
          ]
        }
      ],
      "source": [
        "it_companies = {'Facebook', 'Google', 'Microsoft', 'Apple', 'IBM', 'Oracle', 'Amazon'}\n",
        "A = {19, 22, 24, 20, 25, 26}\n",
        "B = {19, 22, 20, 25, 26, 24, 28, 27}\n",
        "age = [22, 19, 24, 25, 26, 24, 25, 24]\n",
        "\n",
        "#length of set it_companies\n",
        "length=len(it_companies)\n",
        "print(length)\n",
        "\n",
        "#adding 'Twitter' to it_companies\n",
        "it_companies.add('Twitter')\n",
        "print(it_companies)\n",
        "\n",
        "#inserting multiple IT companies at once\n",
        "it_companies.update({'Capgemini','Cognizant','TCS'})\n",
        "print(it_companies)\n",
        "\n",
        "#removing Amazon from the set\n",
        "it_companies.remove('Amazon')\n",
        "print(it_companies)\n",
        "\n",
        "#difference b/w remove and discard\n",
        "# it_companies.remove('Salesforce') -- throwing KeyError as the element is not found\n",
        "#in the list whereas discards doesn't throws the error\n",
        "it_companies.discard('Salesforce')\n",
        "\n",
        "#joining A and B\n",
        "C = A.union(B)\n",
        "print(C)\n",
        "\n",
        "#A intersection B\n",
        "D = A.intersection(B)\n",
        "print(D)\n",
        "\n",
        "#A subset of B\n",
        "print(A.issubset(B))\n",
        "\n",
        "# are A and B disjoint sets\n",
        "print(A.isdisjoint(B))\n",
        "\n",
        "#joining A with B and B with A\n",
        "E = A.symmetric_difference(B)\n",
        "print(E)\n",
        "\n",
        "#symmetric difference between A and B\n",
        "F = A.symmetric_difference(B)\n",
        "print(F)\n",
        "\n",
        "#deleting the sets completely\n",
        "del A\n",
        "del B\n",
        "del C\n",
        "del D\n",
        "del E\n",
        "del F\n",
        "\n",
        "#converting to set and comparing the lengths\n",
        "age_set=set(age)\n",
        "print(len(age))\n",
        "print(len(age_set))"
      ]
    },
    {
      "cell_type": "code",
      "execution_count": null,
      "id": "6fa2eadc",
      "metadata": {
        "scrolled": true,
        "id": "6fa2eadc",
        "outputId": "5aac2bdc-a465-4f8a-9353-921d53f91fbc"
      },
      "outputs": [
        {
          "name": "stdout",
          "output_type": "stream",
          "text": [
            "The area of circle with the given radius:  2827.43\n",
            "The perimeter of circle:  188.5\n",
            "Please enter the radius of the circle: 20.5\n",
            "The area of circle with inpurt radius:  1320.25\n"
          ]
        }
      ],
      "source": [
        "import math\n",
        "\n",
        "Radius = 30\n",
        "#calculating area of circle\n",
        "_area_of_circle = math.pi * (Radius ** 2)\n",
        "print(\"The area of circle with the given radius: \",round(_area_of_circle,2))\n",
        "\n",
        "#calculating perimeter of circle\n",
        "_perimeter_of_circle = 2 * math.pi * Radius\n",
        "print(\"The perimeter of circle: \",round(_perimeter_of_circle,2))\n",
        "\n",
        "#calculating area of circle with the inpt radius\n",
        "radius = float (input (\"Please enter the radius of the circle: \"))\n",
        "_area_of_circle_ipradius = math.pi * (radius ** 2)\n",
        "print(\"The area of circle with inpurt radius: \",round(_area_of_circle_ipradius,2))"
      ]
    },
    {
      "cell_type": "code",
      "execution_count": null,
      "id": "2510abd2",
      "metadata": {
        "id": "2510abd2",
        "outputId": "a8639ac1-684b-4911-9879-6d46a76d0d35"
      },
      "outputs": [
        {
          "name": "stdout",
          "output_type": "stream",
          "text": [
            "10\n"
          ]
        }
      ],
      "source": [
        "statement = \"I am a teacher and I love to inspire and teach people\"\n",
        "#using split method to split the given statement\n",
        "split_words = statement.split()\n",
        "\n",
        "#set function is used remove the duplicate elements\n",
        "unique_words = set(split_words)\n",
        "\n",
        "#calculating the count of unique words\n",
        "print(len(unique_words))"
      ]
    },
    {
      "cell_type": "code",
      "execution_count": null,
      "id": "2c0dc93b",
      "metadata": {
        "id": "2c0dc93b",
        "outputId": "86b5dad5-f9df-4089-8e59-3192a1b6be57"
      },
      "outputs": [
        {
          "name": "stdout",
          "output_type": "stream",
          "text": [
            "Name\tAge\tCountry\tCity\n",
            "Asabeneh\t250\tFinland\tHelsinki\n"
          ]
        }
      ],
      "source": [
        "print(\"Name\\tAge\\tCountry\\tCity\")\n",
        "print(\"Asabeneh\\t250\\tFinland\\tHelsinki\")"
      ]
    },
    {
      "cell_type": "code",
      "execution_count": null,
      "id": "639ea73f",
      "metadata": {
        "id": "639ea73f",
        "outputId": "17075021-9d4c-43a4-df46-b908de8ca54c"
      },
      "outputs": [
        {
          "name": "stdout",
          "output_type": "stream",
          "text": [
            "The area of a circle with radius 10 is 314.0 meters square\n"
          ]
        }
      ],
      "source": [
        "radius = 10\n",
        "area = 3.14 * (radius ** 2)\n",
        "print(\"The area of a circle with radius %r is %a meters square\"%(radius,area))"
      ]
    },
    {
      "cell_type": "code",
      "execution_count": null,
      "id": "28a57264",
      "metadata": {
        "id": "28a57264",
        "outputId": "6a11554a-881f-4e43-b390-4a0a1fd8e73b"
      },
      "outputs": [
        {
          "name": "stdout",
          "output_type": "stream",
          "text": [
            "Enter number of students : 4\n",
            "Enter the weights of students in lbs: 150\n",
            "Enter the weights of students in lbs: 155\n",
            "Enter the weights of students in lbs: 145\n",
            "Enter the weights of students in lbs: 148\n",
            "The weights of 4 students in lbs is:  [150.0, 155.0, 145.0, 148.0]\n",
            "The weights of same 4 students in kgs is:  [68.03, 70.29, 65.76, 67.12]\n"
          ]
        }
      ],
      "source": [
        "# creating an empty list for lbs\n",
        "\n",
        "weight_in_lbs = []\n",
        "\n",
        "# number of elements as input\n",
        "n = int(input(\"Enter number of students : \"))\n",
        "\n",
        "# iterating till the range\n",
        "for i in range(n):\n",
        "    lbs_lst = float(input(\"Enter the weights of students in lbs: \"))\n",
        "    # adding the weights\n",
        "    weight_in_lbs.append(lbs_lst)\n",
        "\n",
        "print(\"The weights of\",n,\"students in lbs is: \",weight_in_lbs)\n",
        "\n",
        "# creating an empty list for kgs\n",
        "weight_in_kgs=[]\n",
        "for i in weight_in_lbs:\n",
        "    weight_in_kgs.append(round(i/2.205, 2))\n",
        "\n",
        "print(\"The weights of same\",n,\"students in kgs is: \",(weight_in_kgs))"
      ]
    }
  ],
  "metadata": {
    "kernelspec": {
      "display_name": "Python 3 (ipykernel)",
      "language": "python",
      "name": "python3"
    },
    "language_info": {
      "codemirror_mode": {
        "name": "ipython",
        "version": 3
      },
      "file_extension": ".py",
      "mimetype": "text/x-python",
      "name": "python",
      "nbconvert_exporter": "python",
      "pygments_lexer": "ipython3",
      "version": "3.10.9"
    },
    "colab": {
      "provenance": []
    }
  },
  "nbformat": 4,
  "nbformat_minor": 5
}